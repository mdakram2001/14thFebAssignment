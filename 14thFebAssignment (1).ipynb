{
 "cells": [
  {
   "cell_type": "code",
   "execution_count": 1,
   "id": "31d3c021-c344-488c-b7ae-5f4cbf9246cb",
   "metadata": {},
   "outputs": [
    {
     "data": {
      "text/plain": [
       "'Q1: What is multithreading in python? Why is it used? Name the module used to handle threads in python\\nAns:\\n\\nMultithreading is defined as the ability of a processor to execute multiple threads concurrently by rapidly \\nswitching the control of the CPU between threads. \\nMultithreading is used to perform multiple tasks simultaneously,which increases performance, speed and improves\\nthe rendering of the application.\\nThreading Module, to use multithreading, we need to import the threading module in Python Program.'"
      ]
     },
     "execution_count": 1,
     "metadata": {},
     "output_type": "execute_result"
    }
   ],
   "source": [
    "\"\"\"Q1: What is multithreading in python? Why is it used? Name the module used to handle threads in python\n",
    "Ans:\n",
    "\n",
    "Multithreading is defined as the ability of a processor to execute multiple threads concurrently by rapidly \n",
    "switching the control of the CPU between threads. \n",
    "Multithreading is used to perform multiple tasks simultaneously,which increases performance, speed and improves\n",
    "the rendering of the application.\n",
    "Threading Module, to use multithreading, we need to import the threading module in Python Program.\"\"\""
   ]
  },
  {
   "cell_type": "code",
   "execution_count": 2,
   "id": "16eeb4a7-9a07-4e76-b0db-f545948738b3",
   "metadata": {},
   "outputs": [
    {
     "data": {
      "text/plain": [
       "\"Q2: Why threading module used? Write the use of the following functions\\n1. activeCount()\\n2. currentThread()\\n3. enumerate()\\nAns:\\n\\nIn Python, threading module is used for creating, controlling and managing threads. It use different functions to \\ncreate or manage threads.\\nIn Python, activeCount() is an inbuilt method of the threading module the method activeCount() from the threading module\\nis used to count the currently active threads.\\nIn Python, the currentThread() is an inbuilt function of the threading module, it is used to return the current Thread object,\\nwhich corresponds to the caller's thread of control.\\nIn Python, threading.enumerate() return a list of all Thread objects currently active. It excludes terminated threads and\\nthreads that have not yet been started.\""
      ]
     },
     "execution_count": 2,
     "metadata": {},
     "output_type": "execute_result"
    }
   ],
   "source": [
    "\"\"\"Q2: Why threading module used? Write the use of the following functions\n",
    "1. activeCount()\n",
    "2. currentThread()\n",
    "3. enumerate()\n",
    "Ans:\n",
    "\n",
    "In Python, threading module is used for creating, controlling and managing threads. It use different functions to \n",
    "create or manage threads.\n",
    "In Python, activeCount() is an inbuilt method of the threading module the method activeCount() from the threading module\n",
    "is used to count the currently active threads.\n",
    "In Python, the currentThread() is an inbuilt function of the threading module, it is used to return the current Thread object,\n",
    "which corresponds to the caller's thread of control.\n",
    "In Python, threading.enumerate() return a list of all Thread objects currently active. It excludes terminated threads and\n",
    "threads that have not yet been started.\"\"\""
   ]
  },
  {
   "cell_type": "code",
   "execution_count": 3,
   "id": "d12a3451-519c-431b-85ce-f26125e22ddd",
   "metadata": {},
   "outputs": [
    {
     "data": {
      "text/plain": [
       "\"Q3: Explain the following functions:\\n run()\\n start()\\n join()\\n isAlive()\\n \\nAns:\\nrun()− The run() method is the entry point for a thread.The 'run()' method is the method that actually gets called when you\\nstart the thread.\\nstart()- In Python, the start() method is used to start a new thread and it does so by calling the run() method of the thread.\\njoin()-  In Python, the join() method is used to wait for a thread to terminate.\\nisAlive()- In Python, the isAlive() method is used to check whether a thread is still executing or has completed its execution.\""
      ]
     },
     "execution_count": 3,
     "metadata": {},
     "output_type": "execute_result"
    }
   ],
   "source": [
    "\"\"\"Q3: Explain the following functions:\n",
    " run()\n",
    " start()\n",
    " join()\n",
    " isAlive()\n",
    " \n",
    "Ans:\n",
    "run()− The run() method is the entry point for a thread.The 'run()' method is the method that actually gets called when you\n",
    "start the thread.\n",
    "start()- In Python, the start() method is used to start a new thread and it does so by calling the run() method of the thread.\n",
    "join()-  In Python, the join() method is used to wait for a thread to terminate.\n",
    "isAlive()- In Python, the isAlive() method is used to check whether a thread is still executing or has completed its execution.\"\"\""
   ]
  },
  {
   "cell_type": "code",
   "execution_count": 7,
   "id": "857fd29c-a662-4cd2-920d-00980364ac1f",
   "metadata": {},
   "outputs": [
    {
     "name": "stdout",
     "output_type": "stream",
     "text": [
      "1\n",
      "4\n",
      "9\n",
      "16\n",
      "25\n",
      "1\n",
      "8\n",
      "27\n",
      "64\n",
      "125\n",
      "Done\n"
     ]
    }
   ],
   "source": [
    "\"\"\"Q4: Write a python program to create two threads. Thread one must print the list of squares and thread\n",
    "two must print the list of cubes\n",
    "Ans: \"\"\"\n",
    "\n",
    "import threading\n",
    "\n",
    "def print_squares():\n",
    "    for i in range(1, 6):\n",
    "        print(i*i)\n",
    "\n",
    "def print_cubes():\n",
    "    for i in range(1, 6):\n",
    "        print(i*i*i)\n",
    "thread1 = threading.Thread(target=print_squares, args=())\n",
    "thread2 = threading.Thread(target=print_cubes, args=())\n",
    "\n",
    "thread1.start()\n",
    "thread2.start()\n",
    "thread1.join()\n",
    "thread2.join()\n",
    "\n",
    "print(\"Done\")"
   ]
  },
  {
   "cell_type": "code",
   "execution_count": 8,
   "id": "1f452f88-c8a7-4578-bb22-5203409ad49c",
   "metadata": {},
   "outputs": [
    {
     "data": {
      "text/plain": [
       "'Q5: State advantages and disadvantages of multithreading\\nAns: \\n\\nFollowing are some of the common advantages of multithreading:\\n1. Increased efficiency and performance\\n2. Improved responsiveness and user experience\\n3. Simplified program design and maintenance\\n4. Resource sharing\\n\\nFollowing are some of the common disadvantages of multithreading:\\n1. Increased potential for deadlock occurrence\\n2. Complex debugging and testing processes\\n3. Increased resource usage\\n4. Increased difficulty level in writing a program'"
      ]
     },
     "execution_count": 8,
     "metadata": {},
     "output_type": "execute_result"
    }
   ],
   "source": [
    "\"\"\"Q5: State advantages and disadvantages of multithreading\n",
    "Ans: \n",
    "\n",
    "Following are some of the common advantages of multithreading:\n",
    "1. Increased efficiency and performance\n",
    "2. Improved responsiveness and user experience\n",
    "3. Simplified program design and maintenance\n",
    "4. Resource sharing\n",
    "\n",
    "Following are some of the common disadvantages of multithreading:\n",
    "1. Increased potential for deadlock occurrence\n",
    "2. Complex debugging and testing processes\n",
    "3. Increased resource usage\n",
    "4. Increased difficulty level in writing a program\"\"\""
   ]
  },
  {
   "cell_type": "code",
   "execution_count": 9,
   "id": "4858e1b3-6e22-43b3-a200-9ce084593fcb",
   "metadata": {},
   "outputs": [
    {
     "data": {
      "text/plain": [
       "'Q6: 6. Explain deadlocks and race conditions.\\nAns:\\n\\nDeadlock occurs when two threads seek one lock simultaneously. This situation will stop both threads from \\nprocessing or executing the functions.\\n\\nA race condition occurs when two or more threads access shared resources in a way that produces unpredictable results. \\nThis situation can occur when multiple threads attempt to modify the same resource simultaneously.'"
      ]
     },
     "execution_count": 9,
     "metadata": {},
     "output_type": "execute_result"
    }
   ],
   "source": [
    "\"\"\"Q6: 6. Explain deadlocks and race conditions.\n",
    "Ans:\n",
    "\n",
    "Deadlock occurs when two threads seek one lock simultaneously. This situation will stop both threads from \n",
    "processing or executing the functions.\n",
    "\n",
    "A race condition occurs when two or more threads access shared resources in a way that produces unpredictable results. \n",
    "This situation can occur when multiple threads attempt to modify the same resource simultaneously.\"\"\""
   ]
  },
  {
   "cell_type": "code",
   "execution_count": null,
   "id": "aa26d461-f107-4138-8300-f520182e24e4",
   "metadata": {},
   "outputs": [],
   "source": []
  }
 ],
 "metadata": {
  "kernelspec": {
   "display_name": "Python 3 (ipykernel)",
   "language": "python",
   "name": "python3"
  },
  "language_info": {
   "codemirror_mode": {
    "name": "ipython",
    "version": 3
   },
   "file_extension": ".py",
   "mimetype": "text/x-python",
   "name": "python",
   "nbconvert_exporter": "python",
   "pygments_lexer": "ipython3",
   "version": "3.10.8"
  }
 },
 "nbformat": 4,
 "nbformat_minor": 5
}
